{
 "cells": [
  {
   "cell_type": "markdown",
   "metadata": {},
   "source": [
    "# Linear Regression Using Multi-Layer Perceptron on Salary Prediction Dataset\n",
    "## Author: Cody Ourique"
   ]
  },
  {
   "cell_type": "code",
   "execution_count": 66,
   "metadata": {},
   "outputs": [],
   "source": [
    "import tensorflow as tf\n",
    "import pandas as pd\n",
    "import seaborn as sns\n",
    "import numpy as np\n",
    "import sklearn\n",
    "from sklearn.preprocessing import StandardScaler\n",
    "import pathlib\n",
    "import matplotlib.pyplot as plt\n",
    "import tensorflow_addons\n",
    "from tensorflow import keras\n",
    "from tensorflow_addons.metrics import RSquare\n",
    "from tensorflow.keras import layers\n"
   ]
  },
  {
   "cell_type": "markdown",
   "metadata": {},
   "source": [
    "## Data Preprocessing\n",
    "\n",
    "### Data Understanding"
   ]
  },
  {
   "cell_type": "code",
   "execution_count": 55,
   "metadata": {},
   "outputs": [
    {
     "data": {
      "text/html": [
       "<div>\n",
       "<style scoped>\n",
       "    .dataframe tbody tr th:only-of-type {\n",
       "        vertical-align: middle;\n",
       "    }\n",
       "\n",
       "    .dataframe tbody tr th {\n",
       "        vertical-align: top;\n",
       "    }\n",
       "\n",
       "    .dataframe thead th {\n",
       "        text-align: right;\n",
       "    }\n",
       "</style>\n",
       "<table border=\"1\" class=\"dataframe\">\n",
       "  <thead>\n",
       "    <tr style=\"text-align: right;\">\n",
       "      <th></th>\n",
       "      <th>Age</th>\n",
       "      <th>Gender</th>\n",
       "      <th>Education Level</th>\n",
       "      <th>Job Title</th>\n",
       "      <th>Years of Experience</th>\n",
       "      <th>Salary</th>\n",
       "    </tr>\n",
       "  </thead>\n",
       "  <tbody>\n",
       "    <tr>\n",
       "      <th>0</th>\n",
       "      <td>32.0</td>\n",
       "      <td>Male</td>\n",
       "      <td>Bachelor's</td>\n",
       "      <td>Software Engineer</td>\n",
       "      <td>5.0</td>\n",
       "      <td>90000.0</td>\n",
       "    </tr>\n",
       "    <tr>\n",
       "      <th>1</th>\n",
       "      <td>28.0</td>\n",
       "      <td>Female</td>\n",
       "      <td>Master's</td>\n",
       "      <td>Data Analyst</td>\n",
       "      <td>3.0</td>\n",
       "      <td>65000.0</td>\n",
       "    </tr>\n",
       "    <tr>\n",
       "      <th>2</th>\n",
       "      <td>45.0</td>\n",
       "      <td>Male</td>\n",
       "      <td>PhD</td>\n",
       "      <td>Senior Manager</td>\n",
       "      <td>15.0</td>\n",
       "      <td>150000.0</td>\n",
       "    </tr>\n",
       "    <tr>\n",
       "      <th>3</th>\n",
       "      <td>36.0</td>\n",
       "      <td>Female</td>\n",
       "      <td>Bachelor's</td>\n",
       "      <td>Sales Associate</td>\n",
       "      <td>7.0</td>\n",
       "      <td>60000.0</td>\n",
       "    </tr>\n",
       "    <tr>\n",
       "      <th>4</th>\n",
       "      <td>52.0</td>\n",
       "      <td>Male</td>\n",
       "      <td>Master's</td>\n",
       "      <td>Director</td>\n",
       "      <td>20.0</td>\n",
       "      <td>200000.0</td>\n",
       "    </tr>\n",
       "  </tbody>\n",
       "</table>\n",
       "</div>"
      ],
      "text/plain": [
       "    Age  Gender Education Level          Job Title  Years of Experience  \\\n",
       "0  32.0    Male      Bachelor's  Software Engineer                  5.0   \n",
       "1  28.0  Female        Master's       Data Analyst                  3.0   \n",
       "2  45.0    Male             PhD     Senior Manager                 15.0   \n",
       "3  36.0  Female      Bachelor's    Sales Associate                  7.0   \n",
       "4  52.0    Male        Master's           Director                 20.0   \n",
       "\n",
       "     Salary  \n",
       "0   90000.0  \n",
       "1   65000.0  \n",
       "2  150000.0  \n",
       "3   60000.0  \n",
       "4  200000.0  "
      ]
     },
     "execution_count": 55,
     "metadata": {},
     "output_type": "execute_result"
    }
   ],
   "source": [
    "data = pd.read_csv(\"Salary Data.csv\")\n",
    "data.head()"
   ]
  },
  {
   "cell_type": "code",
   "execution_count": 67,
   "metadata": {},
   "outputs": [
    {
     "data": {
      "text/html": [
       "<div>\n",
       "<style scoped>\n",
       "    .dataframe tbody tr th:only-of-type {\n",
       "        vertical-align: middle;\n",
       "    }\n",
       "\n",
       "    .dataframe tbody tr th {\n",
       "        vertical-align: top;\n",
       "    }\n",
       "\n",
       "    .dataframe thead th {\n",
       "        text-align: right;\n",
       "    }\n",
       "</style>\n",
       "<table border=\"1\" class=\"dataframe\">\n",
       "  <thead>\n",
       "    <tr style=\"text-align: right;\">\n",
       "      <th></th>\n",
       "      <th>Age</th>\n",
       "      <th>Years of Experience</th>\n",
       "      <th>Salary</th>\n",
       "      <th>Gender_Encoded</th>\n",
       "      <th>Education_Encoded</th>\n",
       "    </tr>\n",
       "  </thead>\n",
       "  <tbody>\n",
       "    <tr>\n",
       "      <th>count</th>\n",
       "      <td>373.000000</td>\n",
       "      <td>373.000000</td>\n",
       "      <td>373.000000</td>\n",
       "      <td>373.000000</td>\n",
       "      <td>373.000000</td>\n",
       "    </tr>\n",
       "    <tr>\n",
       "      <th>mean</th>\n",
       "      <td>37.431635</td>\n",
       "      <td>10.030831</td>\n",
       "      <td>100577.345845</td>\n",
       "      <td>0.520107</td>\n",
       "      <td>0.536193</td>\n",
       "    </tr>\n",
       "    <tr>\n",
       "      <th>std</th>\n",
       "      <td>7.069073</td>\n",
       "      <td>6.557007</td>\n",
       "      <td>48240.013482</td>\n",
       "      <td>0.500267</td>\n",
       "      <td>0.723569</td>\n",
       "    </tr>\n",
       "    <tr>\n",
       "      <th>min</th>\n",
       "      <td>23.000000</td>\n",
       "      <td>0.000000</td>\n",
       "      <td>350.000000</td>\n",
       "      <td>0.000000</td>\n",
       "      <td>0.000000</td>\n",
       "    </tr>\n",
       "    <tr>\n",
       "      <th>25%</th>\n",
       "      <td>31.000000</td>\n",
       "      <td>4.000000</td>\n",
       "      <td>55000.000000</td>\n",
       "      <td>0.000000</td>\n",
       "      <td>0.000000</td>\n",
       "    </tr>\n",
       "    <tr>\n",
       "      <th>50%</th>\n",
       "      <td>36.000000</td>\n",
       "      <td>9.000000</td>\n",
       "      <td>95000.000000</td>\n",
       "      <td>1.000000</td>\n",
       "      <td>0.000000</td>\n",
       "    </tr>\n",
       "    <tr>\n",
       "      <th>75%</th>\n",
       "      <td>44.000000</td>\n",
       "      <td>15.000000</td>\n",
       "      <td>140000.000000</td>\n",
       "      <td>1.000000</td>\n",
       "      <td>1.000000</td>\n",
       "    </tr>\n",
       "    <tr>\n",
       "      <th>max</th>\n",
       "      <td>53.000000</td>\n",
       "      <td>25.000000</td>\n",
       "      <td>250000.000000</td>\n",
       "      <td>1.000000</td>\n",
       "      <td>2.000000</td>\n",
       "    </tr>\n",
       "  </tbody>\n",
       "</table>\n",
       "</div>"
      ],
      "text/plain": [
       "              Age  Years of Experience         Salary  Gender_Encoded  \\\n",
       "count  373.000000           373.000000     373.000000      373.000000   \n",
       "mean    37.431635            10.030831  100577.345845        0.520107   \n",
       "std      7.069073             6.557007   48240.013482        0.500267   \n",
       "min     23.000000             0.000000     350.000000        0.000000   \n",
       "25%     31.000000             4.000000   55000.000000        0.000000   \n",
       "50%     36.000000             9.000000   95000.000000        1.000000   \n",
       "75%     44.000000            15.000000  140000.000000        1.000000   \n",
       "max     53.000000            25.000000  250000.000000        1.000000   \n",
       "\n",
       "       Education_Encoded  \n",
       "count         373.000000  \n",
       "mean            0.536193  \n",
       "std             0.723569  \n",
       "min             0.000000  \n",
       "25%             0.000000  \n",
       "50%             0.000000  \n",
       "75%             1.000000  \n",
       "max             2.000000  "
      ]
     },
     "execution_count": 67,
     "metadata": {},
     "output_type": "execute_result"
    }
   ],
   "source": [
    "data.describe()"
   ]
  },
  {
   "cell_type": "code",
   "execution_count": 56,
   "metadata": {},
   "outputs": [
    {
     "data": {
      "text/plain": [
       "Age                    0\n",
       "Gender                 0\n",
       "Education Level        0\n",
       "Job Title              0\n",
       "Years of Experience    0\n",
       "Salary                 0\n",
       "dtype: int64"
      ]
     },
     "execution_count": 56,
     "metadata": {},
     "output_type": "execute_result"
    }
   ],
   "source": [
    "data.dropna(inplace=True)\n",
    "data.isna().sum()"
   ]
  },
  {
   "cell_type": "markdown",
   "metadata": {},
   "source": [
    "### Feature Selection"
   ]
  },
  {
   "cell_type": "code",
   "execution_count": 57,
   "metadata": {},
   "outputs": [
    {
     "data": {
      "text/html": [
       "<div>\n",
       "<style scoped>\n",
       "    .dataframe tbody tr th:only-of-type {\n",
       "        vertical-align: middle;\n",
       "    }\n",
       "\n",
       "    .dataframe tbody tr th {\n",
       "        vertical-align: top;\n",
       "    }\n",
       "\n",
       "    .dataframe thead th {\n",
       "        text-align: right;\n",
       "    }\n",
       "</style>\n",
       "<table border=\"1\" class=\"dataframe\">\n",
       "  <thead>\n",
       "    <tr style=\"text-align: right;\">\n",
       "      <th></th>\n",
       "      <th>Years of Experience</th>\n",
       "      <th>Salary</th>\n",
       "      <th>Education_Encoded</th>\n",
       "    </tr>\n",
       "  </thead>\n",
       "  <tbody>\n",
       "    <tr>\n",
       "      <th>0</th>\n",
       "      <td>5.0</td>\n",
       "      <td>90000.0</td>\n",
       "      <td>0</td>\n",
       "    </tr>\n",
       "    <tr>\n",
       "      <th>1</th>\n",
       "      <td>3.0</td>\n",
       "      <td>65000.0</td>\n",
       "      <td>1</td>\n",
       "    </tr>\n",
       "    <tr>\n",
       "      <th>2</th>\n",
       "      <td>15.0</td>\n",
       "      <td>150000.0</td>\n",
       "      <td>2</td>\n",
       "    </tr>\n",
       "    <tr>\n",
       "      <th>3</th>\n",
       "      <td>7.0</td>\n",
       "      <td>60000.0</td>\n",
       "      <td>0</td>\n",
       "    </tr>\n",
       "    <tr>\n",
       "      <th>4</th>\n",
       "      <td>20.0</td>\n",
       "      <td>200000.0</td>\n",
       "      <td>1</td>\n",
       "    </tr>\n",
       "  </tbody>\n",
       "</table>\n",
       "</div>"
      ],
      "text/plain": [
       "   Years of Experience    Salary  Education_Encoded\n",
       "0                  5.0   90000.0                  0\n",
       "1                  3.0   65000.0                  1\n",
       "2                 15.0  150000.0                  2\n",
       "3                  7.0   60000.0                  0\n",
       "4                 20.0  200000.0                  1"
      ]
     },
     "execution_count": 57,
     "metadata": {},
     "output_type": "execute_result"
    },
    {
     "data": {
      "image/png": "[encoded data removed]",
      "text/plain": [
       "<Figure size 432x288 with 2 Axes>"
      ]
     },
     "metadata": {
      "needs_background": "light"
     },
     "output_type": "display_data"
    }
   ],
   "source": [
    "# Encode the categorical data\n",
    "data['Gender_Encoded'] = data['Gender'].map({'Female': 0, 'Male': 1})\n",
    "data.drop(columns=['Gender'], inplace=True)\n",
    "\n",
    "# Create map for tenary encoding\n",
    "education_mapping = {\n",
    "    \"Bachelor's\": 0,\n",
    "    \"Master's\": 1,\n",
    "    \"PhD\": 2\n",
    "}\n",
    "\n",
    "# Perform ternary encoding\n",
    "data['Education_Encoded'] = data['Education Level'].map(education_mapping)\n",
    "data.drop(columns=['Education Level'], inplace=True)\n",
    "\n",
    "data_non_numeric = data.select_dtypes(exclude=['number'])\n",
    "data_encoded = pd.get_dummies(data_non_numeric, dtype = float)\n",
    "data_numeric = data.select_dtypes(include=['number'])\n",
    "targets = pd.DataFrame(data[\"Salary\"])\n",
    "\n",
    "# Check for multicollinearity amongst numerical values\n",
    "correlation_matrix = data_numeric.corr()\n",
    "sns.heatmap(correlation_matrix, annot=True)\n",
    "\n",
    "# Drop Age because it is highly correlated with Years of Experience and Years\n",
    "# of Experience is more correlated with our target Salary \n",
    "data_numeric.drop(columns=['Age'], inplace=True)\n",
    "\n",
    "# Drop gender because it is very loosley correlated to the dependent variable\n",
    "data_numeric.drop(columns=['Gender_Encoded'], inplace=True)\n",
    "\n",
    "# Drop Job Title due to complexity\n",
    "data_non_numeric.drop(columns=['Job Title'], inplace=True)\n",
    "\n",
    "# Concatenate the transformed data\n",
    "data_final = pd.concat([data_non_numeric, data_numeric], axis=1)\n",
    "data_final.head()"
   ]
  },
  {
   "cell_type": "code",
   "execution_count": 58,
   "metadata": {},
   "outputs": [
    {
     "name": "stdout",
     "output_type": "stream",
     "text": [
      "[[9.921141   0.54362416]]\n"
     ]
    }
   ],
   "source": [
    "# train/test split\n",
    "train = data_final.sample(frac=0.8, random_state=0)\n",
    "test = data_final.drop(train.index)\n",
    "\n",
    "# Save and drop the labels from the train and test data frame\n",
    "train_labels = pd.DataFrame(train[\"Salary\"])\n",
    "train = train.drop(columns=[\"Salary\"])\n",
    "test_labels = pd.DataFrame(test[\"Salary\"])\n",
    "test = test.drop(columns=[\"Salary\"])\n",
    "\n",
    "# Add normilization layer\n",
    "normalizer = tf.keras.layers.Normalization(axis=-1)\n",
    "normalizer.adapt(np.array(train))\n",
    "print(normalizer.mean.numpy())"
   ]
  },
  {
   "cell_type": "code",
   "execution_count": 59,
   "metadata": {},
   "outputs": [
    {
     "name": "stdout",
     "output_type": "stream",
     "text": [
      "Index(['Years of Experience', 'Salary', 'Education_Encoded'], dtype='object')\n"
     ]
    },
    {
     "data": {
      "image/png": "[encoded data removed]",
      "text/plain": [
       "<Figure size 540x540 with 12 Axes>"
      ]
     },
     "metadata": {
      "needs_background": "light"
     },
     "output_type": "display_data"
    }
   ],
   "source": [
    "# Look at the correlation between variables \n",
    "sns.pairplot(data_final[data_final.columns], diag_kind=\"kde\")\n",
    "print(data_final.columns)"
   ]
  },
  {
   "cell_type": "markdown",
   "metadata": {},
   "source": [
    "## Model Configuration"
   ]
  },
  {
   "cell_type": "code",
   "execution_count": 60,
   "metadata": {},
   "outputs": [
    {
     "name": "stdout",
     "output_type": "stream",
     "text": [
      "Model: \"sequential_2\"\n",
      "_________________________________________________________________\n",
      " Layer (type)                Output Shape              Param #   \n",
      "=================================================================\n",
      " normalization_2 (Normaliza  (None, 2)                 5         \n",
      " tion)                                                           \n",
      "                                                                 \n",
      " dense_8 (Dense)             (None, 64)                192       \n",
      "                                                                 \n",
      " dense_9 (Dense)             (None, 64)                4160      \n",
      "                                                                 \n",
      " dense_10 (Dense)            (None, 32)                2080      \n",
      "                                                                 \n",
      " dense_11 (Dense)            (None, 1)                 33        \n",
      "                                                                 \n",
      "=================================================================\n",
      "Total params: 6470 (25.28 KB)\n",
      "Trainable params: 6465 (25.25 KB)\n",
      "Non-trainable params: 5 (24.00 Byte)\n",
      "_________________________________________________________________\n"
     ]
    }
   ],
   "source": [
    "# Build the model\n",
    "model = keras.Sequential([\n",
    "    normalizer,\n",
    "    layers.Dense(64, activation='relu', input_shape=[len(train.keys())]),\n",
    "    layers.Dense(64, activation='relu'),\n",
    "    layers.Dense(32, activation='relu'),\n",
    "    layers.Dense(1)\n",
    "])\n",
    "\n",
    "optimizer = tf.keras.optimizers.Adam(learning_rate=0.1)\n",
    "\n",
    "model.compile(\n",
    "    loss='mae',\n",
    "    optimizer=optimizer,\n",
    "    metrics=['mse','mae', RSquare()]\n",
    ")\n",
    "\n",
    "model.summary()\n",
    "\n",
    "callback = keras.callbacks.EarlyStopping(monitor='loss' , patience=7)"
   ]
  },
  {
   "cell_type": "code",
   "execution_count": 61,
   "metadata": {},
   "outputs": [
    {
     "name": "stdout",
     "output_type": "stream",
     "text": [
      "[[ 2.  0.]\n",
      " [ 2.  0.]\n",
      " [ 3.  0.]\n",
      " [16.  1.]\n",
      " [ 8.  0.]\n",
      " [16.  2.]\n",
      " [ 4.  0.]\n",
      " [14.  1.]\n",
      " [ 2.  0.]\n",
      " [21.  1.]]\n",
      "1/1 [==============================] - 0s 84ms/step\n"
     ]
    },
    {
     "data": {
      "text/plain": [
       "array([[0.04781418],\n",
       "       [0.04781418],\n",
       "       [0.05424425],\n",
       "       [0.03223746],\n",
       "       [0.03498804],\n",
       "       [0.1591934 ],\n",
       "       [0.05507609],\n",
       "       [0.04406669],\n",
       "       [0.04781418],\n",
       "       [0.08531974]], dtype=float32)"
      ]
     },
     "execution_count": 61,
     "metadata": {},
     "output_type": "execute_result"
    }
   ],
   "source": [
    "# Test model on a batch of data\n",
    "example_batch = train[:10]\n",
    "example_batch = example_batch.to_numpy()\n",
    "print(example_batch)\n",
    "example_batch = tf.convert_to_tensor(example_batch)\n",
    "example_result = model.predict(example_batch)\n",
    "example_result"
   ]
  },
  {
   "cell_type": "markdown",
   "metadata": {},
   "source": [
    "## Training the Model"
   ]
  },
  {
   "cell_type": "code",
   "execution_count": 62,
   "metadata": {},
   "outputs": [],
   "source": [
    "history = model.fit(\n",
    "    train, train_labels, epochs = 1000, validation_split=0.2, verbose=0, callbacks = [callback]\n",
    ")"
   ]
  },
  {
   "cell_type": "code",
   "execution_count": 63,
   "metadata": {},
   "outputs": [
    {
     "data": {
      "text/html": [
       "<div>\n",
       "<style scoped>\n",
       "    .dataframe tbody tr th:only-of-type {\n",
       "        vertical-align: middle;\n",
       "    }\n",
       "\n",
       "    .dataframe tbody tr th {\n",
       "        vertical-align: top;\n",
       "    }\n",
       "\n",
       "    .dataframe thead th {\n",
       "        text-align: right;\n",
       "    }\n",
       "</style>\n",
       "<table border=\"1\" class=\"dataframe\">\n",
       "  <thead>\n",
       "    <tr style=\"text-align: right;\">\n",
       "      <th></th>\n",
       "      <th>loss</th>\n",
       "      <th>mse</th>\n",
       "      <th>mae</th>\n",
       "      <th>r_square</th>\n",
       "      <th>val_loss</th>\n",
       "      <th>val_mse</th>\n",
       "      <th>val_mae</th>\n",
       "      <th>val_r_square</th>\n",
       "      <th>epoch</th>\n",
       "    </tr>\n",
       "  </thead>\n",
       "  <tbody>\n",
       "    <tr>\n",
       "      <th>22</th>\n",
       "      <td>10917.408203</td>\n",
       "      <td>234440880.0</td>\n",
       "      <td>10917.408203</td>\n",
       "      <td>0.900815</td>\n",
       "      <td>12771.365234</td>\n",
       "      <td>309155648.0</td>\n",
       "      <td>12771.365234</td>\n",
       "      <td>0.854581</td>\n",
       "      <td>22</td>\n",
       "    </tr>\n",
       "    <tr>\n",
       "      <th>23</th>\n",
       "      <td>10720.830078</td>\n",
       "      <td>222602192.0</td>\n",
       "      <td>10720.830078</td>\n",
       "      <td>0.905823</td>\n",
       "      <td>12932.645508</td>\n",
       "      <td>329348224.0</td>\n",
       "      <td>12932.645508</td>\n",
       "      <td>0.845083</td>\n",
       "      <td>23</td>\n",
       "    </tr>\n",
       "    <tr>\n",
       "      <th>24</th>\n",
       "      <td>11684.821289</td>\n",
       "      <td>252164560.0</td>\n",
       "      <td>11684.821289</td>\n",
       "      <td>0.893316</td>\n",
       "      <td>14043.775391</td>\n",
       "      <td>381430880.0</td>\n",
       "      <td>14043.775391</td>\n",
       "      <td>0.820585</td>\n",
       "      <td>24</td>\n",
       "    </tr>\n",
       "    <tr>\n",
       "      <th>25</th>\n",
       "      <td>11796.777344</td>\n",
       "      <td>256060576.0</td>\n",
       "      <td>11796.777344</td>\n",
       "      <td>0.891668</td>\n",
       "      <td>13631.437500</td>\n",
       "      <td>351583360.0</td>\n",
       "      <td>13631.437500</td>\n",
       "      <td>0.834625</td>\n",
       "      <td>25</td>\n",
       "    </tr>\n",
       "    <tr>\n",
       "      <th>26</th>\n",
       "      <td>11803.653320</td>\n",
       "      <td>259425040.0</td>\n",
       "      <td>11803.653320</td>\n",
       "      <td>0.890245</td>\n",
       "      <td>12838.626953</td>\n",
       "      <td>313744000.0</td>\n",
       "      <td>12838.626953</td>\n",
       "      <td>0.852423</td>\n",
       "      <td>26</td>\n",
       "    </tr>\n",
       "  </tbody>\n",
       "</table>\n",
       "</div>"
      ],
      "text/plain": [
       "            loss          mse           mae  r_square      val_loss  \\\n",
       "22  10917.408203  234440880.0  10917.408203  0.900815  12771.365234   \n",
       "23  10720.830078  222602192.0  10720.830078  0.905823  12932.645508   \n",
       "24  11684.821289  252164560.0  11684.821289  0.893316  14043.775391   \n",
       "25  11796.777344  256060576.0  11796.777344  0.891668  13631.437500   \n",
       "26  11803.653320  259425040.0  11803.653320  0.890245  12838.626953   \n",
       "\n",
       "        val_mse       val_mae  val_r_square  epoch  \n",
       "22  309155648.0  12771.365234      0.854581     22  \n",
       "23  329348224.0  12932.645508      0.845083     23  \n",
       "24  381430880.0  14043.775391      0.820585     24  \n",
       "25  351583360.0  13631.437500      0.834625     25  \n",
       "26  313744000.0  12838.626953      0.852423     26  "
      ]
     },
     "execution_count": 63,
     "metadata": {},
     "output_type": "execute_result"
    }
   ],
   "source": [
    "hist = pd.DataFrame(history.history)\n",
    "hist['epoch'] = history.epoch\n",
    "hist.tail()"
   ]
  },
  {
   "cell_type": "markdown",
   "metadata": {},
   "source": [
    "## Model Evaluation"
   ]
  },
  {
   "cell_type": "code",
   "execution_count": 64,
   "metadata": {},
   "outputs": [
    {
     "data": {
      "image/png": "[encoded data removed]",
      "text/plain": [
       "<Figure size 432x288 with 1 Axes>"
      ]
     },
     "metadata": {
      "needs_background": "light"
     },
     "output_type": "display_data"
    }
   ],
   "source": [
    "plt.plot(history.history['loss'], label='loss')\n",
    "plt.plot(history.history['val_loss'], label='val_loss')\n",
    "plt.ylim([0,150000])\n",
    "plt.xlabel('Epoch')\n",
    "plt.ylabel('Loss Value')\n",
    "plt.legend()\n",
    "plt.grid(True)"
   ]
  },
  {
   "cell_type": "code",
   "execution_count": 65,
   "metadata": {},
   "outputs": [
    {
     "name": "stdout",
     "output_type": "stream",
     "text": [
      "Testing set mean absolute error: 13970.6728515625\n",
      "\n",
      "Testing set mean squared error: 371678784.0\n",
      "\n",
      "Testing set loss: 13970.6728515625\n",
      "\n",
      "Testing set R squared score: 0.8296704292297363\n"
     ]
    }
   ],
   "source": [
    "loss, mse, mae, rs = model.evaluate(test, test_labels,verbose=0)\n",
    "\n",
    "print(f'Testing set mean absolute error: {mae}\\n')\n",
    "print(f'Testing set mean squared error: {mse}\\n')\n",
    "print(f'Testing set loss: {loss}\\n')\n",
    "print(f'Testing set R squared score: {rs}')"
   ]
  }
 ],
 "metadata": {
  "kernelspec": {
   "display_name": "base",
   "language": "python",
   "name": "python3"
  },
  "language_info": {
   "codemirror_mode": {
    "name": "ipython",
    "version": 3
   },
   "file_extension": ".py",
   "mimetype": "text/x-python",
   "name": "python",
   "nbconvert_exporter": "python",
   "pygments_lexer": "ipython3",
   "version": "3.8.5"
  }
 },
 "nbformat": 4,
 "nbformat_minor": 2
}
