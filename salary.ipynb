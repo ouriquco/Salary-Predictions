{
 "cells": [
  {
   "cell_type": "code",
   "execution_count": 3,
   "metadata": {},
   "outputs": [],
   "source": [
    "import pandas as pd\n",
    "import numpy as np\n",
    "import matplotlib.pyplot as plt\n",
    "from sklearn.model_selection import train_test_split\n",
    "from sklearn.linear_model import LinearRegression\n",
    "from sklearn.preprocessing import OneHotEncoder\n",
    "from sklearn.metrics import mean_squared_error\n",
    "from sklearn.neural_network import MLPClassifier"
   ]
  },
  {
   "cell_type": "markdown",
   "metadata": {},
   "source": [
    "**Data Preprocessing**\n",
    "\n",
    "-- Drop Nan, Duplicates, Non-sensical entries\n",
    "\n",
    "-- One-hot encoding\n",
    "\n",
    "-- Split train/valid/test sets"
   ]
  },
  {
   "cell_type": "code",
   "execution_count": 4,
   "metadata": {},
   "outputs": [
    {
     "name": "stdout",
     "output_type": "stream",
     "text": [
      "[32. 28. 45. 36. 52. 29. 42. 31. 26. 38. 48. 35. 40. 27. 44. 33. 39. 25.\n",
      " 51. 34. 47. 30. 41. 37. 24. 43. 50. 46. 49. 23. 53.]\n",
      "['Male' 'Female']\n",
      "[\"Bachelor's\" \"Master's\" 'PhD']\n",
      "[ 5.   3.  15.   7.  20.   2.  12.   4.   1.  10.  18.   6.  14.  16.\n",
      "  0.  22.  19.   9.  13.  11.  25.  21.   8.  17.  23.  24.   0.5  1.5]\n",
      "[ 90000.  65000. 150000.  60000. 200000.  55000. 120000.  80000.  45000.\n",
      " 110000.  75000. 140000. 130000.  40000. 125000. 115000.  35000. 180000.\n",
      " 190000.  50000. 250000. 170000. 160000.  85000.  95000. 105000.  70000.\n",
      " 100000.  30000. 135000. 220000. 175000. 185000. 145000. 155000.    350.]\n",
      "[ 90000.  65000. 150000.  60000. 200000.  55000. 120000.  80000.  45000.\n",
      " 110000.  75000. 140000. 130000.  40000. 125000. 115000.  35000. 180000.\n",
      " 190000.  50000. 250000. 170000. 160000.  85000.  95000. 105000.  70000.\n",
      " 100000.  30000. 135000. 220000. 175000. 185000. 145000. 155000.]\n"
     ]
    }
   ],
   "source": [
    "salary_df = pd.read_csv('Salary Data.csv')\n",
    "salary_df = salary_df.dropna()\n",
    "salary_df = salary_df.drop_duplicates()\n",
    "# Age / Gender / Education Level / Job Title / Years of Experience / Salary\n",
    "print(pd.unique(salary_df['Age']))\n",
    "print(pd.unique(salary_df['Gender']))\n",
    "print(pd.unique(salary_df['Education Level']))\n",
    "# print(pd.unique(salary_df['Job Title']))\n",
    "print(pd.unique(salary_df['Years of Experience']))\n",
    "print(pd.unique(salary_df['Salary']))\n",
    "# remove 350\n",
    "salary_df = salary_df[salary_df.Salary != 350]\n",
    "print(pd.unique(salary_df['Salary']))"
   ]
  },
  {
   "cell_type": "code",
   "execution_count": 5,
   "metadata": {},
   "outputs": [],
   "source": [
    "genderEncoder = OneHotEncoder(handle_unknown='error')\n",
    "eduEncoder = OneHotEncoder(handle_unknown='error')\n",
    "jobEncoder = OneHotEncoder(handle_unknown='error')\n",
    "\n",
    "gender_onehot = genderEncoder.fit_transform(salary_df[['Gender']]).toarray()\n",
    "# edu_onehot = pd.DataFrame(eduEncoder.fit_transform(salary_df[['Education Level']]).toarray(), columns=eduEncoder.categories_[0])\n",
    "edu_onehot = eduEncoder.fit_transform(salary_df[['Education Level']]).toarray()\n",
    "job_onehot = jobEncoder.fit_transform(salary_df[['Job Title']]).toarray()\n",
    "\n",
    "# x = salary_df['Age'].astype(str) + salary_df['Years of Experience'] + gender_onehot + edu_onehot + job_onehot\n",
    "age = salary_df['Age'].to_numpy().reshape(-1, 1)\n",
    "years = salary_df['Years of Experience'].to_numpy().reshape(-1,1)\n",
    "\n",
    "npArray = np.append(age, years, axis=1)\n",
    "ageYearArray = npArray.copy()\n",
    "npArray = np.append(npArray, gender_onehot, axis=1)\n",
    "npArray = np.append(npArray, edu_onehot, axis=1)\n",
    "npArray = np.append(npArray, job_onehot, axis=1)\n",
    "\n",
    "salary = salary_df['Salary']"
   ]
  },
  {
   "cell_type": "code",
   "execution_count": 6,
   "metadata": {},
   "outputs": [],
   "source": [
    "x_train, x_test, y_train, y_test = train_test_split(npArray, salary, test_size=0.2, random_state=42)\n",
    "x_valid, x_test, y_valid, y_test = train_test_split(x_test, y_test, test_size=0.5, random_state=42)"
   ]
  },
  {
   "cell_type": "code",
   "execution_count": 7,
   "metadata": {},
   "outputs": [
    {
     "name": "stdout",
     "output_type": "stream",
     "text": [
      "0.9880001588217816\n",
      "29184276.61749031\n",
      "3.9938938250295484e+28\n",
      "1.5901264454995665e+30\n"
     ]
    }
   ],
   "source": [
    "model = LinearRegression()\n",
    "reg = model.fit(x_train, y_train)\n",
    "print(reg.score(x_train, y_train))\n",
    "\n",
    "y_trainPred = reg.predict(x_train)\n",
    "y_valPred = reg.predict(x_valid)\n",
    "y_testPred = reg.predict(x_test)\n",
    "\n",
    "print(mean_squared_error(y_trainPred, y_train))\n",
    "print(mean_squared_error(y_valPred, y_valid))\n",
    "print(mean_squared_error(y_testPred, y_test))\n"
   ]
  },
  {
   "cell_type": "code",
   "execution_count": 8,
   "metadata": {},
   "outputs": [
    {
     "name": "stdout",
     "output_type": "stream",
     "text": [
      "0.8606369262524062\n",
      "338938693.7800567\n",
      "339508980.21290255\n",
      "267099120.00576642\n"
     ]
    }
   ],
   "source": [
    "# Using only Age and Years of Experience\n",
    "x_train, x_test, y_train, y_test = train_test_split(ageYearArray, salary, test_size=0.2, random_state=42)\n",
    "x_valid, x_test, y_valid, y_test = train_test_split(x_test, y_test, test_size=0.5, random_state=42)\n",
    "\n",
    "model2 = LinearRegression()\n",
    "reg2 = model2.fit(x_train, y_train)\n",
    "print(reg2.score(x_train, y_train))\n",
    "\n",
    "y_trainPred = reg2.predict(x_train)\n",
    "y_valPred = reg2.predict(x_valid)\n",
    "y_testPred = reg2.predict(x_test)\n",
    "\n",
    "print(mean_squared_error(y_trainPred, y_train))\n",
    "print(mean_squared_error(y_valPred, y_valid))\n",
    "print(mean_squared_error(y_testPred, y_test))\n"
   ]
  },
  {
   "cell_type": "code",
   "execution_count": 16,
   "metadata": {},
   "outputs": [
    {
     "name": "stdout",
     "output_type": "stream",
     "text": [
      "6048352713.178294\n",
      "5057031250.0\n",
      "6258333333.333333\n"
     ]
    }
   ],
   "source": [
    "mlp = MLPClassifier(solver='lbfgs', hidden_layer_sizes=(2, 2), random_state=1)\n",
    "mlp.fit(x_train, y_train)\n",
    "\n",
    "y_trainPred = mlp.predict(x_train)\n",
    "y_valPred = mlp.predict(x_valid)\n",
    "y_testPred = mlp.predict(x_test)\n",
    "\n",
    "print(mean_squared_error(y_trainPred, y_train))\n",
    "print(mean_squared_error(y_valPred, y_valid))\n",
    "print(mean_squared_error(y_testPred, y_test))"
   ]
  }
 ],
 "metadata": {
  "kernelspec": {
   "display_name": "Python 3",
   "language": "python",
   "name": "python3"
  },
  "language_info": {
   "codemirror_mode": {
    "name": "ipython",
    "version": 3
   },
   "file_extension": ".py",
   "mimetype": "text/x-python",
   "name": "python",
   "nbconvert_exporter": "python",
   "pygments_lexer": "ipython3",
   "version": "3.11.9"
  }
 },
 "nbformat": 4,
 "nbformat_minor": 2
}
